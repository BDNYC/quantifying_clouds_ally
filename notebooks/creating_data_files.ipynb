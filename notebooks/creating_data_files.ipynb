{
 "cells": [
  {
   "cell_type": "code",
   "execution_count": 1,
   "metadata": {},
   "outputs": [
    {
     "name": "stdout",
     "output_type": "stream",
     "text": [
      "Intel MKL WARNING: Support of Intel(R) Streaming SIMD Extensions 4.2 (Intel(R) SSE4.2) enabled only processors has been deprecated. Intel oneAPI Math Kernel Library 2025.0 will require Intel(R) Advanced Vector Extensions (Intel(R) AVX) instructions.\n",
      "Intel MKL WARNING: Support of Intel(R) Streaming SIMD Extensions 4.2 (Intel(R) SSE4.2) enabled only processors has been deprecated. Intel oneAPI Math Kernel Library 2025.0 will require Intel(R) Advanced Vector Extensions (Intel(R) AVX) instructions.\n"
     ]
    }
   ],
   "source": [
    "import matplotlib.pyplot as plt\n",
    "import numpy as np\n",
    "import sys\n",
    "import os\n",
    "from astropy.io import ascii\n",
    "from astropy.table import Table\n",
    "from tqdm import tqdm\n",
    "from astropy.convolution import convolve, Gaussian1DKernel, Box1DKernel\n",
    "import numpy.ma as ma\n",
    "from sqlalchemy import text\n",
    "import pandas as pd\n",
    "import matplotlib.pylab as pl\n",
    "import matplotlib as mpl\n",
    "import matplotlib.ticker as mticker\n",
    "from scipy import stats\n",
    "import pickle"
   ]
  },
  {
   "cell_type": "code",
   "execution_count": 2,
   "metadata": {},
   "outputs": [],
   "source": [
    "from functions.data_tools import *\n",
    "from Doublet_Quantifiers.models import *\n",
    "from Doublet_Quantifiers.curvefit import *\n",
    "loc = '/Users/allybaldelli/Desktop/AMNH-stuff/Doublet-Quantifiers'\n",
    "sys.path.append(os.path.abspath(loc))\n",
    "\n",
    "# Importing scripts needed\n",
    "\n",
    "mypath = '/Users/allybaldelli/Desktop/AMNH-stuff/quantifying_clouds_ally'\n",
    "sys.path.append(os.path.abspath(mypath))"
   ]
  },
  {
   "cell_type": "code",
   "execution_count": 3,
   "metadata": {},
   "outputs": [
    {
     "name": "stdout",
     "output_type": "stream",
     "text": [
      "creating dictionary of spectra\n"
     ]
    },
    {
     "name": "stderr",
     "output_type": "stream",
     "text": [
      " 30%|███       | 9/30 [00:17<00:28,  1.36s/it]"
     ]
    }
   ],
   "source": [
    "# getting files of data\n",
    "# This example uses t1500 files\n",
    "files = [f for f in os.listdir(mypath + '/diamondback-data/t1500/')]\n",
    "files.remove('.DS_Store')\n",
    "\n",
    "# getting data into usable format\n",
    "data_dict = files_to_spec(files)\n",
    "parameter_df, convolve_data_dict = spec_to_parameter(data_dict)\n",
    "\n",
    "# pickling the data produced above\n",
    "parameter_df.to_pickle(\n",
    "    mypath + \"/diamondback-data/pickle_files/t1500_parameter_df.pkl\")\n",
    "\n",
    "with open(mypath+'/diamondback-data/pickle_files/t1500_convolve_data_dict.pkl', 'wb') as handle:\n",
    "    pickle.dump(convolve_data_dict, handle, protocol=pickle.HIGHEST_PROTOCOL)\n",
    "\n",
    "with open(mypath+'/diamondback-data/pickle_files/t1500_raw_data_dict.pkl', 'wb') as handle:\n",
    "    pickle.dump(data_dict, handle, protocol=pickle.HIGHEST_PROTOCOL)"
   ]
  },
  {
   "cell_type": "code",
   "execution_count": null,
   "metadata": {},
   "outputs": [],
   "source": [
    "# to open data files\n",
    "with open(mypath + \"/diamondback-data/pickle_files/t1500_convolve_data_dict.pkl\", \"rb\") as f:\n",
    "    opened_convolve_data_dict = pickle.load(f)\n",
    "\n",
    "# opening pseudo-voigt parameter DataFrame\n",
    "with open(mypath + \"/diamondback-data/pickle_files/t1500_parameter_df.pkl\", \"rb\") as f:\n",
    "    opened_parameter_df = pickle.load(f)\n",
    "\n",
    "# opening pseudo-voigt parameter DataFrame\n",
    "with open(mypath + \"/diamondback-data/pickle_files/t1500_raw_data_dict.pkl\", \"rb\") as f:\n",
    "    opened_data_dict = pickle.load(f)"
   ]
  },
  {
   "cell_type": "code",
   "execution_count": null,
   "metadata": {},
   "outputs": [
    {
     "data": {
      "text/plain": [
       "nu1        True\n",
       "nu2        True\n",
       "A1         True\n",
       "A2         True\n",
       "FWHM1      True\n",
       "FWHM2      True\n",
       "μ1         True\n",
       "μ2         True\n",
       "name       True\n",
       "gravity    True\n",
       "logg       True\n",
       "clouds     True\n",
       "dtype: bool"
      ]
     },
     "execution_count": 17,
     "metadata": {},
     "output_type": "execute_result"
    }
   ],
   "source": [
    "# We can see they're the same\n",
    "(parameter_df == opened_parameter_df).all()"
   ]
  }
 ],
 "metadata": {
  "kernelspec": {
   "display_name": "bdnyc-env",
   "language": "python",
   "name": "python3"
  },
  "language_info": {
   "codemirror_mode": {
    "name": "ipython",
    "version": 3
   },
   "file_extension": ".py",
   "mimetype": "text/x-python",
   "name": "python",
   "nbconvert_exporter": "python",
   "pygments_lexer": "ipython3",
   "version": "3.9.13"
  },
  "orig_nbformat": 4
 },
 "nbformat": 4,
 "nbformat_minor": 2
}
